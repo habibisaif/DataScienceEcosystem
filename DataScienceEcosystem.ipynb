{
  "nbformat": 4,
  "nbformat_minor": 0,
  "metadata": {
    "colab": {
      "provenance": [],
      "authorship_tag": "ABX9TyPBCzCYFuLXyNTeW4Unvk7E",
      "include_colab_link": true
    },
    "kernelspec": {
      "name": "python3",
      "display_name": "Python 3"
    },
    "language_info": {
      "name": "python"
    }
  },
  "cells": [
    {
      "cell_type": "markdown",
      "metadata": {
        "id": "view-in-github",
        "colab_type": "text"
      },
      "source": [
        "<a href=\"https://colab.research.google.com/github/habibisaif/DataScienceEcosystem/blob/main/DataScienceEcosystem.ipynb\" target=\"_parent\"><img src=\"https://colab.research.google.com/assets/colab-badge.svg\" alt=\"Open In Colab\"/></a>"
      ]
    },
    {
      "cell_type": "markdown",
      "source": [
        "#Data Science Tools and Ecosystem"
      ],
      "metadata": {
        "id": "tT9TrDJnfGYV"
      }
    },
    {
      "cell_type": "markdown",
      "source": [
        "## In this notebook, Data Science Tools and Ecosystem are summarized"
      ],
      "metadata": {
        "id": "1ITXAuo7fpxG"
      }
    },
    {
      "cell_type": "markdown",
      "source": [
        "### Some of the popular languages that Data Scientists use are:\n",
        "- Python\n",
        "- R\n",
        "- SQL\n",
        "- Java\n",
        "- C++"
      ],
      "metadata": {
        "id": "mNN_JOyvfto7"
      }
    },
    {
      "cell_type": "markdown",
      "source": [
        "### Some of the commonly used libraries used by Data Scientists include:\n",
        "- Numpy\n",
        "- Pandas\n",
        "- Scikit-Learn\n",
        "- Matplotlib (for plotting graphs)"
      ],
      "metadata": {
        "id": "_vIuj9E3gAxD"
      }
    },
    {
      "cell_type": "markdown",
      "source": [
        "**Objectives:**\n",
        "- getting familiar with some popular progamming language for data science\n",
        "- understand how jupyter works\n",
        "- create any markdown comments in jupyter cell\n",
        "- make a code and run it in jupyter notebook\n"
      ],
      "metadata": {
        "id": "uYAb7tGUjlz7"
      }
    },
    {
      "cell_type": "markdown",
      "source": [
        "## Data Science Tool\n",
        "\n",
        "|Data Science Tools|\n",
        "|------------------|\n",
        "|Apache Spark|\n",
        "|TensorFlow|\n",
        "|Apache Hadoop|\n",
        "|RapidMiner|"
      ],
      "metadata": {
        "id": "IphBKpzxgV6F"
      }
    },
    {
      "cell_type": "markdown",
      "source": [
        "### Below are a few examples of evaluating arithmetic expressions in Python\n",
        "You can simply use code:\n",
        "\n",
        "\n",
        "```\n",
        "a = 2\n",
        "b = 3\n",
        "y = a + b\n",
        "```\n",
        "to express an arithmatic expression of _y=a+b_\n"
      ],
      "metadata": {
        "id": "QGnBfEy_g5H7"
      }
    },
    {
      "cell_type": "code",
      "source": [
        "#This a simple arithmetic expression to mutiply then add integers.\n",
        "a = 3\n",
        "b = 4\n",
        "c = 5\n",
        "y = (a*b)+c\n",
        "print(y)"
      ],
      "metadata": {
        "colab": {
          "base_uri": "https://localhost:8080/"
        },
        "id": "-VKKNpgXfHwq",
        "outputId": "597d6817-2a26-4603-8c20-cab6fc0e8bc0"
      },
      "execution_count": 1,
      "outputs": [
        {
          "output_type": "stream",
          "name": "stdout",
          "text": [
            "17\n"
          ]
        }
      ]
    },
    {
      "cell_type": "code",
      "source": [
        "m = 200\n",
        "h = m/60\n",
        "print (\"200 minutes is\",h, \"hours\")"
      ],
      "metadata": {
        "colab": {
          "base_uri": "https://localhost:8080/"
        },
        "id": "eZGLFl8ciR3D",
        "outputId": "1da2eb92-e37e-4283-88a6-d9587467f390"
      },
      "execution_count": 6,
      "outputs": [
        {
          "output_type": "stream",
          "name": "stdout",
          "text": [
            "200 minutes is 3.3333333333333335 hours\n"
          ]
        }
      ]
    },
    {
      "cell_type": "markdown",
      "source": [
        "## Author:\n",
        "Habibi Saifuddin"
      ],
      "metadata": {
        "id": "tOL2P6b4kXrd"
      }
    }
  ]
}